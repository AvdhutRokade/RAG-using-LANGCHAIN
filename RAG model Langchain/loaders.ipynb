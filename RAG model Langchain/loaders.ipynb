{
 "cells": [
  {
   "cell_type": "code",
   "execution_count": 8,
   "id": "0480de78",
   "metadata": {},
   "outputs": [
    {
     "name": "stdout",
     "output_type": "stream",
     "text": [
      "Note: you may need to restart the kernel to use updated packages.\n"
     ]
    },
    {
     "name": "stderr",
     "output_type": "stream",
     "text": [
      "\n",
      "[notice] A new release of pip is available: 25.2 -> 25.3\n",
      "[notice] To update, run: python.exe -m pip install --upgrade pip\n"
     ]
    }
   ],
   "source": [
    "%pip install langchain langchain-community beautifulsoup4 -qU "
   ]
  },
  {
   "cell_type": "code",
   "execution_count": 7,
   "id": "2a520f69",
   "metadata": {},
   "outputs": [
    {
     "data": {
      "text/plain": [
       "'Llama 3.1 405B is the first openly available model that rivals the top AI models when it comes to state-of-the-art capabilities in general knowledge, steerability, math, tool use, and multilingual translation.\\n\\nThe upgraded versions of the 8B and 70B models are multilingual and have a significantly longer context length of 128K, state-of-the-art tool use, and overall stronger reasoning capabilities. This enables Metaâ€™s latest models to support advanced use cases, such as long-form text summarization, multilingual conversational agents, and coding assistants.\\n\\nMeta also has made changes to their license, allowing developers to use the outputs from Llama models, including the 405B model, to improve other models.\\n\\nModel evaluations\\nFor this release, Meta has evaluation the performance on over 150 benchmark datasets that span a wide range of languages. In addition, Meta performed extensive human evaluations that compare Llama 3.1 with competing models in real-world scenarios. Metaâ€™s experimental evaluation suggests that our flagship model is competitive with leading foundation models across a range of tasks, including GPT-4, GPT-4o, and Claude 3.5 Sonnet. Additionally, Metaâ€™s smaller models are competitive with closed and open models that have a similar number of parameters.'"
      ]
     },
     "execution_count": 7,
     "metadata": {},
     "output_type": "execute_result"
    }
   ],
   "source": [
    "from langchain_community.document_loaders import TextLoader\n",
    "loader = TextLoader(\"test.txt\")\n",
    "documents = loader.load()\n",
    "\n",
    "documents[0].page_content"
   ]
  },
  {
   "cell_type": "code",
   "execution_count": 10,
   "id": "6db07601",
   "metadata": {},
   "outputs": [
    {
     "data": {
      "text/plain": [
       "\"Web Loaders - Docs by LangChainSkip to main contentWe've raised a $125M Series B to build the platform for agent engineering. Read more.Docs by LangChain home pageLangChain + LangGraphSearch...⌘KGitHubTry LangSmithTry LangSmithSearch...NavigationWeb LoadersLangChainLangGraphIntegrationsLearnReferenceContributingTypeScriptOverviewAll providersPopular ProvidersOpenAIAnthropicGoogleAWSMicrosoftGeneral integrationsChat modelsTools and ToolkitsLLMsKey-value storesDocument transformersModel cachesCallbacksRAG integrationsRetrieversText splittersEmbedding modelsVector storesDocument loadersKey-value storesOn this pageAll web loadersWeb LoadersCopy pageCopy pageThese loaders are used to load web resources. They do not involve the local file system.\\n\\u200bAll web loaders\\nPlaywrightView guideAirtableLoaderView guideApify DatasetView guideAssemblyAI Audio TranscriptView guideAzure Blob Storage ContainerView guideAzure Blob Storage FileView guideBrowserbase LoaderView guideCollege ConfidentialView guideConfluenceView guideCouchbaseView guideFigmaView guideFireCrawlView guideGitBookView guideGitHubView guideGoogle Cloud StorageView guideGoogle Cloud SQL for PostgreSQLView guideHacker NewsView guideIMSDBView guideJiraView guideLangSmithView guideNotion APIView guidePDF filesView guideRecursiveUrlLoaderView guideS3 FileView guideSearchApi LoaderView guideSerpAPI LoaderView guideSitemap LoaderView guideSonix AudioView guideBlockchain DataView guideSpiderView guideTaskadeView guideCheerioView guidePuppeteerView guideYouTube transcriptsView guide\\nIf you’d like to contribute an integration, see Contributing integrations.\\n\\nEdit the source of this page on GitHub.\\nConnect these docs programmatically to Claude, VSCode, and more via MCP for    real-time answers.Was this page helpful?YesNo⌘IDocs by LangChain home pagegithubxlinkedinyoutubeResourcesForumChangelogLangChain AcademyTrust CenterCompanyAboutCareersBloggithubxlinkedinyoutubePowered by Mintlify\""
      ]
     },
     "execution_count": 10,
     "metadata": {},
     "output_type": "execute_result"
    }
   ],
   "source": [
    "from langchain_community.document_loaders import WebBaseLoader\n",
    "loader = WebBaseLoader(\"https://docs.langchain.com/oss/javascript/integrations/document_loaders/web_loaders\")\n",
    "documents = loader.load()\n",
    "documents[0].page_content\n"
   ]
  },
  {
   "cell_type": "code",
   "execution_count": 14,
   "id": "4262e38b",
   "metadata": {},
   "outputs": [
    {
     "data": {
      "text/plain": [
       "53"
      ]
     },
     "execution_count": 14,
     "metadata": {},
     "output_type": "execute_result"
    }
   ],
   "source": [
    "from langchain_community.document_loaders.csv_loader import CSVLoader\n",
    "loader = CSVLoader(file_path=\"before.csv\", content_columns=[\"name\"])\n",
    "documents = loader.load()\n",
    "len(documents)"
   ]
  }
 ],
 "metadata": {
  "kernelspec": {
   "display_name": "venv",
   "language": "python",
   "name": "python3"
  },
  "language_info": {
   "codemirror_mode": {
    "name": "ipython",
    "version": 3
   },
   "file_extension": ".py",
   "mimetype": "text/x-python",
   "name": "python",
   "nbconvert_exporter": "python",
   "pygments_lexer": "ipython3",
   "version": "3.13.7"
  }
 },
 "nbformat": 4,
 "nbformat_minor": 5
}
