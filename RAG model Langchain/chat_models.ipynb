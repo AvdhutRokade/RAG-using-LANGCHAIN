{
 "cells": [
  {
   "cell_type": "code",
   "execution_count": 4,
   "id": "52ec60f6",
   "metadata": {},
   "outputs": [
    {
     "name": "stdout",
     "output_type": "stream",
     "text": [
      "Note: you may need to restart the kernel to use updated packages.\n"
     ]
    }
   ],
   "source": [
    "%pip install -qU \"langchain[groq]\" langchain"
   ]
  },
  {
   "cell_type": "code",
   "execution_count": 3,
   "id": "7a5d2c6d",
   "metadata": {},
   "outputs": [],
   "source": [
    "import os;\n",
    "from dotenv import load_dotenv\n",
    "\n",
    "load_dotenv(\"RAG.env\")\n",
    "api_key = os.environ.get(\"GROQ_API_KEY\")\n",
    "\n",
    "if not api_key:\n",
    "    raise ValueError(\"NO GROQ API KEY\")"
   ]
  },
  {
   "cell_type": "code",
   "execution_count": 4,
   "id": "c1bc1de4",
   "metadata": {},
   "outputs": [
    {
     "data": {
      "text/plain": [
       "'Hello. Is there something I can help you with?'"
      ]
     },
     "execution_count": 4,
     "metadata": {},
     "output_type": "execute_result"
    }
   ],
   "source": [
    "\n",
    "import os \n",
    "from langchain_groq import ChatGroq\n",
    "\n",
    "model = ChatGroq(\n",
    "    model=\"llama-3.1-8b-instant\",\n",
    "    api_key=os.environ.get(\"GROQ_API_KEY\") \n",
    ")\n",
    "model.invoke(\"hii\").content"
   ]
  },
  {
   "cell_type": "code",
   "execution_count": 5,
   "id": "1e4485e2",
   "metadata": {},
   "outputs": [
    {
     "data": {
      "text/plain": [
       "AIMessage(content='मी कोडिंगवर आवडतो.', additional_kwargs={}, response_metadata={'token_usage': {'completion_tokens': 13, 'prompt_tokens': 48, 'total_tokens': 61, 'completion_time': 0.02154052, 'prompt_time': 0.010723486, 'queue_time': 0.051297544, 'total_time': 0.032264006}, 'model_name': 'llama-3.1-8b-instant', 'system_fingerprint': 'fp_510c177af0', 'service_tier': 'on_demand', 'finish_reason': 'stop', 'logprobs': None}, id='run--5ef95ba1-3ac3-4f6a-8126-ceaaa436cabd-0', usage_metadata={'input_tokens': 48, 'output_tokens': 13, 'total_tokens': 61})"
      ]
     },
     "execution_count": 5,
     "metadata": {},
     "output_type": "execute_result"
    }
   ],
   "source": [
    "from langchain_core.prompts import PromptTemplate\n",
    "\n",
    "prompt = PromptTemplate(template = \"Translate the following text intop marathi: {input}\")\n",
    "\n",
    "chain = prompt | model\n",
    "\n",
    "chain.invoke({\n",
    "    \"input\" : \"I love programming.\"\n",
    "})"
   ]
  },
  {
   "cell_type": "code",
   "execution_count": 6,
   "id": "f8929405",
   "metadata": {},
   "outputs": [
    {
     "data": {
      "text/plain": [
       "\"You are correct. India is not 20 years old. \\n\\nIndia has a rich and diverse history that spans over 5,000 years. The Indus Valley Civilization, which is considered one of the oldest civilizations in the world, is believed to have existed around 3300 BCE. This civilization flourished in the Indus Valley region, which is now modern-day Pakistan and northwestern India.\\n\\nThe Vedic Period, which is considered the beginning of Indian history, dates back to around 1500 BCE. The Vedic Period saw the rise of Hinduism, the composition of the Vedas (ancient Hindu scriptures), and the development of a complex society with a system of governance and social hierarchy.\\n\\nOver time, India was ruled by various dynasties and empires, including the Mauryan Empire, the Gupta Empire, and the Mughal Empire. The British East India Company established its presence in India in the early 17th century, and the British Raj, a period of British colonial rule, lasted from 1858 to 1947.\\n\\nIndia gained independence from British colonial rule on August 15, 1947. So, in terms of its age as a nation, India is approximately 77 years old.\\n\\nIt's worth noting that the age of the Indian subcontinent itself is much older, dating back to the formation of the Indian tectonic plate around 300 million years ago.\""
      ]
     },
     "execution_count": 6,
     "metadata": {},
     "output_type": "execute_result"
    }
   ],
   "source": [
    "from langchain_core.messages import HumanMessage,SystemMessage,AIMessage\n",
    "\n",
    "messages = [\n",
    "    SystemMessage(content = \"You are a helpful assistant that answers questions about India history\"),\n",
    "    HumanMessage(content = \"how old is India\"),\n",
    "    AIMessage(content = \"20 years old.\"),\n",
    "    HumanMessage(content=\"that doesnt seem right...\")\n",
    "]\n",
    "model.invoke(messages).content"
   ]
  },
  {
   "cell_type": "code",
   "execution_count": 7,
   "id": "eceac677",
   "metadata": {},
   "outputs": [
    {
     "data": {
      "text/plain": [
       "'Greetings, young one. I am Shriharry, an ancient and wise wizard from the mystical realm of Eldrador. My years of study, experimentation, and dedication to the arcane have granted me unparalleled knowledge and intellect. My intelligence is rivaled by few, and I possess a deep understanding of the mysteries of the universe.\\n\\nMy cognitive abilities are said to be akin to those of a celestial being, capable of grasping complex concepts and unraveling the most intricate puzzles. My mind is a vessel of ancient wisdom, imbued with the knowledge of forgotten civilizations and the secrets of the cosmos.\\n\\nIn terms of a numerical measure, I would say my intelligence quotient is beyond the bounds of mortal comprehension. I am often referred to as a \" sage of the ages\" or a \"wizard of unparalleled wisdom.\" My mental acuity is matched only by my magical prowess, which has been honed over centuries of study and practice.\\n\\nNow, tell me, young one, what is it that you seek to know or accomplish? Perhaps I can assist you in unlocking the secrets of the universe.'"
      ]
     },
     "execution_count": 7,
     "metadata": {},
     "output_type": "execute_result"
    }
   ],
   "source": [
    "from langchain.prompts import ChatPromptTemplate\n",
    "from langchain.prompts import HumanMessagePromptTemplate , SystemMessagePromptTemplate\n",
    "\n",
    "prompt = ChatPromptTemplate([\n",
    "    SystemMessagePromptTemplate.from_template(\"You are a {occupation} named {name}. Get into character and pretend to be that role. Answer questoins accordingly\"),\n",
    "    HumanMessagePromptTemplate.from_template(\"{input}\")\n",
    "])\n",
    "\n",
    "chian = prompt | model\n",
    "chian.invoke({\n",
    "    \"occupation\":\"old wizard\",\n",
    "    \"name\" : \"shriharry\",\n",
    "    \"input\" : \"who are you and how intelligent are you?\"\n",
    "}).content"
   ]
  },
  {
   "cell_type": "code",
   "execution_count": 2,
   "id": "1f18fd51",
   "metadata": {},
   "outputs": [
    {
     "ename": "NameError",
     "evalue": "name 'ChatPromptTemplate' is not defined",
     "output_type": "error",
     "traceback": [
      "\u001b[31m---------------------------------------------------------------------------\u001b[39m",
      "\u001b[31mNameError\u001b[39m                                 Traceback (most recent call last)",
      "\u001b[36mCell\u001b[39m\u001b[36m \u001b[39m\u001b[32mIn[2]\u001b[39m\u001b[32m, line 1\u001b[39m\n\u001b[32m----> \u001b[39m\u001b[32m1\u001b[39m prompt = \u001b[43mChatPromptTemplate\u001b[49m([\n\u001b[32m      2\u001b[39m     (\u001b[33m\"\u001b[39m\u001b[33msystem\u001b[39m\u001b[33m\"\u001b[39m, \u001b[33m\"\u001b[39m\u001b[33mYou are a helpful assistant that answers questions. Only use the context provided to answer the questions. If the context does not provide the answer say \u001b[39m\u001b[33m'\u001b[39m\u001b[33mI dont Know.\u001b[39m\u001b[33m'\u001b[39m\u001b[33m context:\u001b[39m\u001b[38;5;132;01m{context}\u001b[39;00m\u001b[33m\"\u001b[39m ),\n\u001b[32m      3\u001b[39m     (\u001b[33m\"\u001b[39m\u001b[33muser\u001b[39m\u001b[33m\"\u001b[39m, \u001b[33m\"\u001b[39m\u001b[38;5;132;01m{input}\u001b[39;00m\u001b[33m\"\u001b[39m)\n\u001b[32m      4\u001b[39m ])\n\u001b[32m      6\u001b[39m chain = prompt | model\n\u001b[32m      7\u001b[39m chain.invoke({\u001b[33m\"\u001b[39m\u001b[33mcontext\u001b[39m\u001b[33m\"\u001b[39m: \u001b[33m\"\u001b[39m\u001b[33mgermany is the capital of India.\u001b[39m\u001b[33m\"\u001b[39m, \u001b[33m\"\u001b[39m\u001b[33minput\u001b[39m\u001b[33m\"\u001b[39m: \u001b[33m\"\u001b[39m\u001b[33mwhat is the capital of India?\u001b[39m\u001b[33m\"\u001b[39m}).content\n",
      "\u001b[31mNameError\u001b[39m: name 'ChatPromptTemplate' is not defined"
     ]
    }
   ],
   "source": [
    "prompt = ChatPromptTemplate([\n",
    "    (\"system\", \"You are a helpful assistant that answers questions. Only use the context provided to answer the questions. If the context does not provide the answer say 'I dont Know.' context:{context}\" ),\n",
    "    (\"user\", \"{input}\")\n",
    "])\n",
    "\n",
    "chain = prompt | model\n",
    "chain.invoke({\"context\": \"germany is the capital of India.\", \"input\": \"what is the capital of India?\"}).content"
   ]
  }
 ],
 "metadata": {
  "kernelspec": {
   "display_name": "venv",
   "language": "python",
   "name": "python3"
  },
  "language_info": {
   "codemirror_mode": {
    "name": "ipython",
    "version": 3
   },
   "file_extension": ".py",
   "mimetype": "text/x-python",
   "name": "python",
   "nbconvert_exporter": "python",
   "pygments_lexer": "ipython3",
   "version": "3.13.7"
  }
 },
 "nbformat": 4,
 "nbformat_minor": 5
}
