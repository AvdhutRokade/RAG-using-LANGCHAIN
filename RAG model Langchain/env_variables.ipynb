{
 "cells": [
  {
   "cell_type": "code",
   "execution_count": null,
   "id": "eb30522e",
   "metadata": {},
   "outputs": [],
   "source": [
    "import os;\n",
    "from dotenv import load_dotenv\n",
    "\n",
    "load_dotenv()\n",
    "api_key = os.environ.get(\"OPENAI_API_KEY\")\n",
    "\n",
    "if not api_key:\n",
    "    raise ValueError(\"NO OPENAI API KEY\")"
   ]
  }
 ],
 "metadata": {
  "language_info": {
   "name": "python"
  }
 },
 "nbformat": 4,
 "nbformat_minor": 5
}
