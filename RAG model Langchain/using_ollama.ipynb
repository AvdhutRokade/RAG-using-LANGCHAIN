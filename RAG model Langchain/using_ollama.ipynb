{
 "cells": [
  {
   "cell_type": "code",
   "execution_count": 4,
   "id": "c0071c4a",
   "metadata": {},
   "outputs": [
    {
     "name": "stdout",
     "output_type": "stream",
     "text": [
      "Note: you may need to restart the kernel to use updated packages.\n"
     ]
    },
    {
     "name": "stderr",
     "output_type": "stream",
     "text": [
      "\n",
      "[notice] A new release of pip is available: 25.2 -> 25.3\n",
      "[notice] To update, run: python.exe -m pip install --upgrade pip\n"
     ]
    },
    {
     "name": "stdout",
     "output_type": "stream",
     "text": [
      "Note: you may need to restart the kernel to use updated packages.\n"
     ]
    },
    {
     "name": "stderr",
     "output_type": "stream",
     "text": [
      "\n",
      "[notice] A new release of pip is available: 25.2 -> 25.3\n",
      "[notice] To update, run: python.exe -m pip install --upgrade pip\n"
     ]
    }
   ],
   "source": [
    "%pip install -qU langchain-ollama\n",
    "%pip install -qU ollama"
   ]
  },
  {
   "cell_type": "code",
   "execution_count": 5,
   "id": "23195606",
   "metadata": {},
   "outputs": [
    {
     "data": {
      "text/plain": [
       "AIMessage(content=\"What's up? How can I help you today?\", additional_kwargs={}, response_metadata={'model': 'llama3.1', 'created_at': '2025-10-26T18:16:36.5874024Z', 'done': True, 'done_reason': 'stop', 'total_duration': 22980977100, 'load_duration': 20199610400, 'prompt_eval_count': 12, 'prompt_eval_duration': 1167487000, 'eval_count': 12, 'eval_duration': 1522277200, 'model_name': 'llama3.1', 'model_provider': 'ollama'}, id='lc_run--7abf6cf2-2963-43a7-a72d-cda45f2ffb34-0', usage_metadata={'input_tokens': 12, 'output_tokens': 12, 'total_tokens': 24})"
      ]
     },
     "execution_count": 5,
     "metadata": {},
     "output_type": "execute_result"
    }
   ],
   "source": [
    "from langchain_ollama import ChatOllama\n",
    "\n",
    "llm = ChatOllama(model = \"llama3.1\")\n",
    "\n",
    "llm.invoke(\"Hey!\")"
   ]
  }
 ],
 "metadata": {
  "kernelspec": {
   "display_name": "venv",
   "language": "python",
   "name": "python3"
  },
  "language_info": {
   "codemirror_mode": {
    "name": "ipython",
    "version": 3
   },
   "file_extension": ".py",
   "mimetype": "text/x-python",
   "name": "python",
   "nbconvert_exporter": "python",
   "pygments_lexer": "ipython3",
   "version": "3.13.7"
  }
 },
 "nbformat": 4,
 "nbformat_minor": 5
}
